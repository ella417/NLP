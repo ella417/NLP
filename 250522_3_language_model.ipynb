{
  "cells": [
    {
      "cell_type": "markdown",
      "metadata": {
        "id": "view-in-github",
        "colab_type": "text"
      },
      "source": [
        "<a href=\"https://colab.research.google.com/github/ella417/NLP/blob/main/250522_3_language_model.ipynb\" target=\"_parent\"><img src=\"https://colab.research.google.com/assets/colab-badge.svg\" alt=\"Open In Colab\"/></a>"
      ]
    },
    {
      "cell_type": "code",
      "execution_count": 1,
      "metadata": {
        "id": "8vQzOle74-cJ"
      },
      "outputs": [],
      "source": [
        "import torch\n",
        "import torch.nn as nn\n",
        "import matplotlib.pyplot as plt\n",
        "from tqdm.auto import tqdm\n",
        "\n",
        "def read_txt(txt_path):\n",
        "  with open(txt_path, 'r') as f:\n",
        "    txt_string = f.readlines()\n",
        "  return txt_string"
      ]
    },
    {
      "cell_type": "markdown",
      "metadata": {
        "id": "CXbsjcoKIC93"
      },
      "source": [
        "# Language modeling"
      ]
    },
    {
      "cell_type": "code",
      "execution_count": 2,
      "metadata": {
        "colab": {
          "base_uri": "https://localhost:8080/"
        },
        "id": "Y1EwAtYF4-cJ",
        "outputId": "8c36e6a6-dc0b-4a79-8adb-4d8ddc6898be"
      },
      "outputs": [
        {
          "output_type": "stream",
          "name": "stdout",
          "text": [
            "--2025-05-27 04:50:37--  https://raw.githubusercontent.com/karpathy/makemore/master/names.txt\n",
            "Resolving raw.githubusercontent.com (raw.githubusercontent.com)... 185.199.109.133, 185.199.108.133, 185.199.111.133, ...\n",
            "Connecting to raw.githubusercontent.com (raw.githubusercontent.com)|185.199.109.133|:443... connected.\n",
            "HTTP request sent, awaiting response... 200 OK\n",
            "Length: 228145 (223K) [text/plain]\n",
            "Saving to: ‘names.txt’\n",
            "\n",
            "\rnames.txt             0%[                    ]       0  --.-KB/s               \rnames.txt           100%[===================>] 222.80K  --.-KB/s    in 0.02s   \n",
            "\n",
            "2025-05-27 04:50:37 (13.6 MB/s) - ‘names.txt’ saved [228145/228145]\n",
            "\n"
          ]
        }
      ],
      "source": [
        "!wget \"https://raw.githubusercontent.com/karpathy/makemore/master/names.txt\""
      ]
    },
    {
      "cell_type": "code",
      "execution_count": 3,
      "metadata": {
        "id": "xbdOy7ia4-cK"
      },
      "outputs": [],
      "source": [
        "txt_string = read_txt('names.txt')"
      ]
    },
    {
      "cell_type": "code",
      "execution_count": 4,
      "metadata": {
        "colab": {
          "base_uri": "https://localhost:8080/"
        },
        "id": "iSIJEvdSN3aO",
        "outputId": "4620ecd9-afac-4ad8-c14b-3cf2aee71626"
      },
      "outputs": [
        {
          "output_type": "execute_result",
          "data": {
            "text/plain": [
              "32033"
            ]
          },
          "metadata": {},
          "execution_count": 4
        }
      ],
      "source": [
        "names_list = [x.replace('\\n', '') for x in txt_string]\n",
        "len(names_list)"
      ]
    },
    {
      "cell_type": "code",
      "execution_count": 5,
      "metadata": {
        "id": "tijegdHb6RAj"
      },
      "outputs": [],
      "source": [
        "# names_list"
      ]
    },
    {
      "cell_type": "markdown",
      "metadata": {
        "id": "YUGS4Rf6OFgZ"
      },
      "source": [
        "# N-Gram\n",
        "- Start with bi-gram (2-gram)"
      ]
    },
    {
      "cell_type": "code",
      "execution_count": 6,
      "metadata": {
        "id": "BUchO_cFOE6O"
      },
      "outputs": [],
      "source": [
        "from collections import defaultdict\n",
        "\n",
        "# bigram_dict = {}\n",
        "bigram_dict = defaultdict(int) # If key is not in the defaultdict, it automatically assign key and empty value (int=0, list=[])\n",
        "unigram_dict = defaultdict(int)"
      ]
    },
    {
      "cell_type": "markdown",
      "metadata": {
        "id": "53aB-trqviem"
      },
      "source": [
        "# RNN\n",
        "- $h_t = \\tanh(\\textbf{W}_{hh}h_{t-1} + \\textbf{W}_{xh}x_t + b) $\n",
        "  - $\\textbf{W}$: Weight Matrix\n",
        "  - $b$: bias\n",
        "  - $x_t$: input vector of time step $t$\n",
        "  - $h_t$: hidden state (and also output) of time step $t$\n"
      ]
    },
    {
      "cell_type": "code",
      "execution_count": 7,
      "metadata": {
        "colab": {
          "base_uri": "https://localhost:8080/"
        },
        "id": "R7bIx3l-6kmm",
        "outputId": "e920d15b-df4b-4fc2-bd2e-8ffd103df3b6"
      },
      "outputs": [
        {
          "output_type": "execute_result",
          "data": {
            "text/plain": [
              "tensor([ 1.0554,  0.1778, -0.2303])"
            ]
          },
          "metadata": {},
          "execution_count": 7
        }
      ],
      "source": [
        "torch.manual_seed(0)\n",
        "sequence_length = 7\n",
        "input_dim, hidden_dim = 3, 5\n",
        "weight_hh = nn.Linear(hidden_dim, hidden_dim)\n",
        "weight_xh = nn.Linear(input_dim, hidden_dim)\n",
        "h0 = torch.zeros(hidden_dim)\n",
        "x = torch.randn([sequence_length, input_dim])\n",
        "t = 0\n",
        "x_t = x[t]\n",
        "x[t]"
      ]
    },
    {
      "cell_type": "code",
      "execution_count": 8,
      "metadata": {
        "colab": {
          "base_uri": "https://localhost:8080/"
        },
        "id": "iGZUlBcN9nuj",
        "outputId": "ad469404-7c16-47ae-cdaa-a90e9091b64b"
      },
      "outputs": [
        {
          "output_type": "execute_result",
          "data": {
            "text/plain": [
              "tensor([-0.3031,  0.4942, -0.3826, -0.1671, -0.0307], grad_fn=<TanhBackward0>)"
            ]
          },
          "metadata": {},
          "execution_count": 8
        }
      ],
      "source": [
        "h_t = torch.tanh(weight_hh(h0)+weight_xh(x_t))\n",
        "h_t"
      ]
    },
    {
      "cell_type": "code",
      "execution_count": 9,
      "metadata": {
        "colab": {
          "base_uri": "https://localhost:8080/"
        },
        "id": "YgKeelj0_MFn",
        "outputId": "6b0aa393-cf52-4709-cc8d-3f1c073fdfd7"
      },
      "outputs": [
        {
          "output_type": "stream",
          "name": "stdout",
          "text": [
            "x: tensor([ 1.0554,  0.1778, -0.2303])\n",
            "h: tensor([-0.3031,  0.4942, -0.3826, -0.1671, -0.0307], grad_fn=<TanhBackward0>)\n",
            "x: tensor([-0.3918,  0.5433,  0.3356])\n",
            "h: tensor([ 0.2949,  0.2907,  0.5566, -0.6004, -0.4537], grad_fn=<TanhBackward0>)\n",
            "x: tensor([1.5091, 2.0820, 1.7067])\n",
            "h: tensor([-0.0504, -0.8319,  0.6891, -0.0811, -0.9549], grad_fn=<TanhBackward0>)\n",
            "x: tensor([ 2.3804, -1.1256, -0.3170])\n",
            "h: tensor([-0.9035,  0.7153, -0.9110,  0.4101,  0.4610], grad_fn=<TanhBackward0>)\n",
            "x: tensor([-1.0925,  0.8058,  0.3276])\n",
            "h: tensor([ 0.5157,  0.1567,  0.7691, -0.8519, -0.4661], grad_fn=<TanhBackward0>)\n",
            "x: tensor([-0.7607, -1.5991,  0.0185])\n",
            "h: tensor([-0.6471,  0.9578, -0.5932, -0.2097,  0.4347], grad_fn=<TanhBackward0>)\n",
            "x: tensor([-0.7504,  0.1854,  0.6211])\n",
            "h: tensor([ 0.2194,  0.3107,  0.5832, -0.7386, -0.3476], grad_fn=<TanhBackward0>)\n"
          ]
        },
        {
          "output_type": "execute_result",
          "data": {
            "text/plain": [
              "tensor([[-0.3031,  0.4942, -0.3826, -0.1671, -0.0307],\n",
              "        [ 0.2949,  0.2907,  0.5566, -0.6004, -0.4537],\n",
              "        [-0.0504, -0.8319,  0.6891, -0.0811, -0.9549],\n",
              "        [-0.9035,  0.7153, -0.9110,  0.4101,  0.4610],\n",
              "        [ 0.5157,  0.1567,  0.7691, -0.8519, -0.4661],\n",
              "        [-0.6471,  0.9578, -0.5932, -0.2097,  0.4347],\n",
              "        [ 0.2194,  0.3107,  0.5832, -0.7386, -0.3476]],\n",
              "       grad_fn=<StackBackward0>)"
            ]
          },
          "metadata": {},
          "execution_count": 9
        }
      ],
      "source": [
        "def run_rnn_cell(weight_hh, weight_xh, prev_h, x_t):\n",
        "  return torch.tanh(weight_hh(prev_h)+weight_xh(x_t))\n",
        "\n",
        "output = []\n",
        "prev_h = h0\n",
        "for i in range(len(x)):\n",
        "  print(f\"x: {x[i]}\")\n",
        "  h = run_rnn_cell(weight_hh, weight_xh, prev_h, x[i])\n",
        "  prev_h = h\n",
        "  output.append(h)\n",
        "  print(f\"h: {h}\")\n",
        "\n",
        "output = torch.stack(output)\n",
        "output"
      ]
    },
    {
      "cell_type": "code",
      "execution_count": 10,
      "metadata": {
        "colab": {
          "base_uri": "https://localhost:8080/"
        },
        "id": "BiaB2EqJBJOu",
        "outputId": "8e4e86de-dc1e-45bf-f34f-0be4cb5f5d86"
      },
      "outputs": [
        {
          "output_type": "execute_result",
          "data": {
            "text/plain": [
              "['emma',\n",
              " 'olivia',\n",
              " 'ava',\n",
              " 'isabella',\n",
              " 'sophia',\n",
              " 'charlotte',\n",
              " 'mia',\n",
              " 'amelia',\n",
              " 'harper',\n",
              " 'evelyn']"
            ]
          },
          "metadata": {},
          "execution_count": 10
        }
      ],
      "source": [
        "names_list[:10]"
      ]
    },
    {
      "cell_type": "code",
      "execution_count": 11,
      "metadata": {
        "colab": {
          "base_uri": "https://localhost:8080/"
        },
        "id": "VC_G9VPzDCzE",
        "outputId": "7a2c2947-5b82-490d-a432-5db39740bac9"
      },
      "outputs": [
        {
          "output_type": "execute_result",
          "data": {
            "text/plain": [
              "196113"
            ]
          },
          "metadata": {},
          "execution_count": 11
        }
      ],
      "source": [
        "entire_chars = []\n",
        "\n",
        "for name in names_list:\n",
        "  for char in name:\n",
        "    entire_chars.append(char)\n",
        "\n",
        "len(entire_chars)"
      ]
    },
    {
      "cell_type": "code",
      "execution_count": 12,
      "metadata": {
        "colab": {
          "base_uri": "https://localhost:8080/"
        },
        "id": "HJq1DgIBDs6_",
        "outputId": "7f0213eb-9d87-4802-b234-505963bf8341"
      },
      "outputs": [
        {
          "output_type": "execute_result",
          "data": {
            "text/plain": [
              "{'a': 0,\n",
              " 'b': 1,\n",
              " 'c': 2,\n",
              " 'd': 3,\n",
              " 'e': 4,\n",
              " 'f': 5,\n",
              " 'g': 6,\n",
              " 'h': 7,\n",
              " 'i': 8,\n",
              " 'j': 9,\n",
              " 'k': 10,\n",
              " 'l': 11,\n",
              " 'm': 12,\n",
              " 'n': 13,\n",
              " 'o': 14,\n",
              " 'p': 15,\n",
              " 'q': 16,\n",
              " 'r': 17,\n",
              " 's': 18,\n",
              " 't': 19,\n",
              " 'u': 20,\n",
              " 'v': 21,\n",
              " 'w': 22,\n",
              " 'x': 23,\n",
              " 'y': 24,\n",
              " 'z': 25}"
            ]
          },
          "metadata": {},
          "execution_count": 12
        }
      ],
      "source": [
        "set(entire_chars)\n",
        "vocab = list(set(entire_chars))\n",
        "vocab.sort()\n",
        "\n",
        "char2idx = {char: i for i, char in enumerate(vocab)}\n",
        "char2idx"
      ]
    },
    {
      "cell_type": "markdown",
      "metadata": {
        "id": "MYFTB9TR5WPE"
      },
      "source": [
        "## Define Dataset Class"
      ]
    },
    {
      "cell_type": "code",
      "execution_count": 13,
      "metadata": {
        "colab": {
          "base_uri": "https://localhost:8080/"
        },
        "id": "qnX2HlaT5WPE",
        "outputId": "547e1f6b-d177-4381-c5bf-cf418c12b18e"
      },
      "outputs": [
        {
          "output_type": "stream",
          "name": "stdout",
          "text": [
            "['<pad>', '<start>', '<end>', 'a', 'b', 'c', 'd', 'e', 'f', 'g', 'h', 'i', 'j', 'k', 'l', 'm', 'n', 'o', 'p', 'q', 'r', 's', 't', 'u', 'v', 'w', 'x', 'y', 'z']\n"
          ]
        },
        {
          "output_type": "execute_result",
          "data": {
            "text/plain": [
              "29"
            ]
          },
          "metadata": {},
          "execution_count": 13
        }
      ],
      "source": [
        "class NameSet:\n",
        "  def __init__(self, txt_fn):\n",
        "    txt_string = read_txt(txt_fn)\n",
        "    names_list = [x.replace(\"\\n\", '') for x in txt_string]\n",
        "    self.data = names_list\n",
        "    entire_chars = []\n",
        "    for name in names_list:\n",
        "      for char in name:\n",
        "        entire_chars.append(char)\n",
        "\n",
        "    self.vocab = list(set(entire_chars))\n",
        "    self.vocab.sort()\n",
        "\n",
        "    special_tokens = ['<pad>', '<start>', '<end>']\n",
        "    self.vocab = special_tokens+self.vocab\n",
        "    self.char2idx = {char: i for i, char in enumerate(self.vocab)}\n",
        "  def __len__(self):\n",
        "    return len(self.data)\n",
        "  def __getitem__(self, idx):\n",
        "    name_string = self.data[idx]\n",
        "    name_in_idx = [self.char2idx[char] for char in name_string]\n",
        "    name_in_idx = [self.char2idx['<start>']] + name_in_idx + [self.char2idx['<end>']]\n",
        "\n",
        "    model_input = name_in_idx[:-1]\n",
        "    target_output = name_in_idx[1:]\n",
        "    return model_input, target_output\n",
        "\n",
        "\n",
        "dataset = NameSet('names.txt')\n",
        "dataset.data[0]\n",
        "len(dataset)\n",
        "print(dataset.vocab)\n",
        "dataset[0]\n",
        "len(dataset.vocab)"
      ]
    },
    {
      "cell_type": "code",
      "execution_count": 14,
      "metadata": {
        "colab": {
          "base_uri": "https://localhost:8080/"
        },
        "id": "_cGwvuZOBtVJ",
        "outputId": "45d2eca0-bf17-4cd1-a98a-289ee2e2bb67"
      },
      "outputs": [
        {
          "output_type": "stream",
          "name": "stdout",
          "text": [
            "e 7\n",
            "m 15\n",
            "m 15\n",
            "a 3\n"
          ]
        },
        {
          "output_type": "execute_result",
          "data": {
            "text/plain": [
              "[7, 15, 15, 3]"
            ]
          },
          "metadata": {},
          "execution_count": 14
        }
      ],
      "source": [
        "name = 'emma' #. 4, 12, 12, 0\n",
        "char2idx = dataset.char2idx\n",
        "\n",
        "for char in name:\n",
        "  print(char, char2idx[char])\n",
        "\n",
        "[char2idx[char] for char in name] # tokenizing string to tokens"
      ]
    },
    {
      "cell_type": "markdown",
      "metadata": {
        "id": "6Se8szyU5WPE"
      },
      "source": [
        "## Define the model\n",
        "- Model Architecture\n",
        "  - Embedding Layer: Convert character to vector\n",
        "  - RNN Layer: Process the input sequence\n",
        "  - Linear Layer: Output the logits for the probability of the next character\n",
        "  - Softmax Layer: Convert the logits to probability\n",
        "\n",
        "- Forward Pass:\n",
        "  - Assume the input is a sequence of characters\n",
        "    - We call it \"teacher-forcing\". We feed the target output to the model as the input\n",
        "  - Flow: Embedding -> RNN -> Linear -> Softmax\n",
        "\n"
      ]
    },
    {
      "cell_type": "code",
      "execution_count": 15,
      "metadata": {
        "id": "3o8ySWcu5WPE",
        "outputId": "17bbf152-7201-4fe4-9000-2d4afaf09751",
        "colab": {
          "base_uri": "https://localhost:8080/"
        }
      },
      "outputs": [
        {
          "output_type": "stream",
          "name": "stdout",
          "text": [
            "tensor([ 1,  7, 15, 15,  3])\n",
            "torch.Size([5, 29])\n"
          ]
        },
        {
          "output_type": "execute_result",
          "data": {
            "text/plain": [
              "tensor([[0.0435, 0.0353, 0.0337, 0.0384, 0.0331, 0.0350, 0.0284, 0.0374, 0.0393,\n",
              "         0.0368, 0.0298, 0.0337, 0.0297, 0.0372, 0.0387, 0.0279, 0.0380, 0.0412,\n",
              "         0.0285, 0.0354, 0.0322, 0.0392, 0.0364, 0.0304, 0.0379, 0.0285, 0.0330,\n",
              "         0.0280, 0.0333],\n",
              "        [0.0409, 0.0335, 0.0454, 0.0313, 0.0343, 0.0304, 0.0235, 0.0459, 0.0394,\n",
              "         0.0379, 0.0317, 0.0303, 0.0278, 0.0381, 0.0411, 0.0296, 0.0313, 0.0340,\n",
              "         0.0295, 0.0349, 0.0362, 0.0388, 0.0361, 0.0317, 0.0393, 0.0291, 0.0355,\n",
              "         0.0274, 0.0350],\n",
              "        [0.0457, 0.0299, 0.0402, 0.0285, 0.0329, 0.0328, 0.0300, 0.0430, 0.0400,\n",
              "         0.0332, 0.0393, 0.0312, 0.0261, 0.0303, 0.0379, 0.0269, 0.0249, 0.0358,\n",
              "         0.0336, 0.0416, 0.0349, 0.0447, 0.0397, 0.0319, 0.0416, 0.0315, 0.0362,\n",
              "         0.0232, 0.0323],\n",
              "        [0.0463, 0.0287, 0.0393, 0.0277, 0.0333, 0.0331, 0.0328, 0.0418, 0.0387,\n",
              "         0.0315, 0.0428, 0.0310, 0.0261, 0.0279, 0.0384, 0.0258, 0.0220, 0.0348,\n",
              "         0.0362, 0.0456, 0.0346, 0.0475, 0.0397, 0.0313, 0.0450, 0.0328, 0.0350,\n",
              "         0.0210, 0.0292],\n",
              "        [0.0381, 0.0292, 0.0346, 0.0330, 0.0475, 0.0322, 0.0356, 0.0431, 0.0290,\n",
              "         0.0312, 0.0346, 0.0311, 0.0291, 0.0251, 0.0378, 0.0313, 0.0215, 0.0264,\n",
              "         0.0361, 0.0469, 0.0378, 0.0459, 0.0365, 0.0320, 0.0430, 0.0381, 0.0382,\n",
              "         0.0239, 0.0313]], grad_fn=<SoftmaxBackward0>)"
            ]
          },
          "metadata": {},
          "execution_count": 15
        }
      ],
      "source": [
        "import torch.nn as nn\n",
        "class LanguageModel(nn.Module):\n",
        "  def __init__(self, vocab_size,embedding_dim=16):\n",
        "    super().__init__()\n",
        "    self.vocab_size = vocab_size\n",
        "    self.emb = nn.Embedding(embedding_dim=embedding_dim,num_embeddings=self.vocab_size)\n",
        "    self.rnn = nn.GRU(input_size=embedding_dim,hidden_size=2*embedding_dim, batch_first = True)\n",
        "\n",
        "    self.proj = nn.Linear(in_features= 2*embedding_dim, out_features= vocab_size)\n",
        "\n",
        "  def forward(self, x):\n",
        "    x = self.emb(x)\n",
        "    x,last_hidden = self.rnn(x)\n",
        "    self.proj\n",
        "    x = self.proj(x)\n",
        "    x = torch.softmax(x, dim=1)\n",
        "    return x\n",
        "vocab_size = len(dataset.vocab)\n",
        "model=LanguageModel(vocab_size)\n",
        "model.emb.weight\n",
        "\n",
        "x,y = dataset[0]\n",
        "x = torch.tensor(x)\n",
        "print(x)\n",
        "print(model(x).shape)\n",
        "model(x)"
      ]
    },
    {
      "cell_type": "markdown",
      "metadata": {
        "id": "JcYnHAXM9KTQ"
      },
      "source": [
        "## Define Collate Function\n",
        "- As the input is a list of arbitrary length, we need to pad them to the same length\n",
        "- You can feed collate function to the DataLoader\n",
        "  - ```dataloader = DataLoader(dataset, batch_size=10, collate_fn=collate_fn)```"
      ]
    },
    {
      "cell_type": "code",
      "execution_count": 16,
      "metadata": {
        "id": "MFX4Cs8g9KTQ",
        "colab": {
          "base_uri": "https://localhost:8080/"
        },
        "outputId": "24923d20-4d06-4ed1-b4a8-672ff8b4129c"
      },
      "outputs": [
        {
          "output_type": "stream",
          "name": "stdout",
          "text": [
            "(tensor([[ 1,  7, 15, 15,  3,  0,  0,  0,  0,  0],\n",
            "        [ 1, 17, 14, 11, 24, 11,  3,  0,  0,  0],\n",
            "        [ 1,  3, 24,  3,  0,  0,  0,  0,  0,  0],\n",
            "        [ 1, 11, 21,  3,  4,  7, 14, 14,  3,  0],\n",
            "        [ 1, 21, 17, 18, 10, 11,  3,  0,  0,  0],\n",
            "        [ 1,  5, 10,  3, 20, 14, 17, 22, 22,  7],\n",
            "        [ 1, 15, 11,  3,  0,  0,  0,  0,  0,  0],\n",
            "        [ 1,  3, 15,  7, 14, 11,  3,  0,  0,  0]]), tensor([[ 7, 15, 15,  3,  2,  0,  0,  0,  0,  0],\n",
            "        [17, 14, 11, 24, 11,  3,  2,  0,  0,  0],\n",
            "        [ 3, 24,  3,  2,  0,  0,  0,  0,  0,  0],\n",
            "        [11, 21,  3,  4,  7, 14, 14,  3,  2,  0],\n",
            "        [21, 17, 18, 10, 11,  3,  2,  0,  0,  0],\n",
            "        [ 5, 10,  3, 20, 14, 17, 22, 22,  7,  2],\n",
            "        [15, 11,  3,  2,  0,  0,  0,  0,  0,  0],\n",
            "        [ 3, 15,  7, 14, 11,  3,  2,  0,  0,  0]]))\n"
          ]
        }
      ],
      "source": [
        "from torch.utils.data import DataLoader\n",
        "\n",
        "def collate(raw_batch):\n",
        "  # for x,t in raw_batch\n",
        "  x = [item[0] for item in raw_batch]\n",
        "  y = [item[1] for item in raw_batch]\n",
        "\n",
        "  length_name = max([len(name) for name in x])\n",
        "  num_pad = [length_name - len(name) for name in x]\n",
        "  # num_pad[]\n",
        "  # for name in x :\n",
        "  #   num_pad.append(length_name - len(name))\n",
        "  pad_x = []\n",
        "  pad_y = []\n",
        "  for name, name_y, pad in zip(x, y, num_pad) :\n",
        "    # print(name, name_y, pad)\n",
        "    paded_name = name + [0] * pad\n",
        "    paded_name_y = name_y + [0] * pad\n",
        "\n",
        "    pad_x.append(paded_name)\n",
        "    pad_y.append(paded_name_y)\n",
        "\n",
        "#  pad_x = torch.zeros(len(raw_batch), length_name, dtype=torch.long)\n",
        "#  for i, name in enumerate(x):\n",
        "#    pad_x[i, len(name)] = torch.tensor(name)\n",
        "\n",
        "  x = pad_x\n",
        "  y = pad_y\n",
        "\n",
        "  # print(num_pad)\n",
        "  # print(length_name)\n",
        "  return torch.tensor(x), torch.tensor(y)\n",
        "\n",
        "dataloader = DataLoader(dataset, batch_size = 8, collate_fn = collate)\n",
        "\n",
        "for batch in dataloader:\n",
        "  # [dataset[idx] for idx in [0,1,2]]\n",
        "  print(batch)\n",
        "  break"
      ]
    },
    {
      "cell_type": "markdown",
      "metadata": {
        "id": "cC-7TBKU9KTQ"
      },
      "source": [
        "## Define the split function\n",
        "- Split the dataset into training and validation set\n",
        "- You can use ```torch.utils.data.random_split``` function\n",
        "  - ```train_dataset, val_dataset = torch.utils.data.random_split(dataset, [train_size, val_size])```\n"
      ]
    },
    {
      "cell_type": "code",
      "execution_count": 17,
      "metadata": {
        "id": "1_S848Uv9KTQ",
        "colab": {
          "base_uri": "https://localhost:8080/"
        },
        "outputId": "758fdd87-5e0f-40ab-8505-defe31e5d821"
      },
      "outputs": [
        {
          "output_type": "stream",
          "name": "stdout",
          "text": [
            "28829 3204\n"
          ]
        }
      ],
      "source": [
        "train_size = int(len(dataset) * 0.9)\n",
        "val_size = len(dataset) - train_size\n",
        "print(train_size, val_size)\n",
        "train_dataset, val_dataset = torch.utils.data.random_split(dataset, [train_size, val_size])"
      ]
    },
    {
      "cell_type": "markdown",
      "metadata": {
        "id": "BcvOGUiE5WPE"
      },
      "source": [
        "## Define Training Loop\n",
        "- Define the loss function\n",
        "  - Negative Log Likelihood Loss: Consider that we are using padding tokens as well\n",
        "- Define the loss using the loss function\n",
        "- Save the loss value"
      ]
    },
    {
      "cell_type": "code",
      "execution_count": 18,
      "metadata": {
        "id": "UwtEtIj09KTQ",
        "outputId": "fb36a41b-9d95-4ce9-827c-f8ba332b3487",
        "colab": {
          "base_uri": "https://localhost:8080/"
        }
      },
      "outputs": [
        {
          "output_type": "stream",
          "name": "stdout",
          "text": [
            "tensor([ 7, 15, 15,  3,  2])\n"
          ]
        },
        {
          "output_type": "execute_result",
          "data": {
            "text/plain": [
              "tensor(3.4748, grad_fn=<MeanBackward0>)"
            ]
          },
          "metadata": {},
          "execution_count": 18
        }
      ],
      "source": [
        "x, y = dataset[0]\n",
        "x = torch.tensor(x)\n",
        "y = torch.tensor(y)\n",
        "prediction = model(x)\n",
        "print(y)\n",
        "\n",
        "prediction\n",
        "\n",
        "prob_of_correct_char = prediction[torch.arange(len(y)),y]\n",
        "prob_of_correct_char\n",
        "nll = -torch.log(prob_of_correct_char)\n",
        "nll.mean()"
      ]
    },
    {
      "cell_type": "code",
      "source": [
        "train_loader = DataLoader(train_dataset, batch_size = 8, collate_fn = collate, shuffle = True)\n",
        "batch = next(iter(train_loader))\n",
        "# iterater\n",
        "x, y = batch\n",
        "prediction = model(x)\n",
        "batch_size, seq_length, vocab_size = prediction.shape # batch_size, seq_length, vocab_size\n",
        "prediction = prediction.reshape(batch_size * seq_length, vocab_size)\n",
        "y = y.reshape(-1)\n",
        "print(prediction.shape, y.shape)\n",
        "prob_of_correct_char = prediction[torch.arange(len(y)), y]"
      ],
      "metadata": {
        "colab": {
          "base_uri": "https://localhost:8080/"
        },
        "id": "pk4OApRsdNym",
        "outputId": "5a2b1f93-d5b5-4409-c0c2-34bf0b5bcb6c"
      },
      "execution_count": 19,
      "outputs": [
        {
          "output_type": "stream",
          "name": "stdout",
          "text": [
            "torch.Size([80, 29]) torch.Size([80])\n"
          ]
        }
      ]
    },
    {
      "cell_type": "code",
      "source": [
        "y.shape"
      ],
      "metadata": {
        "id": "LrIrYus0fMzV",
        "outputId": "ec1aa8f8-54da-4ea3-e9c8-3f09bfe9b761",
        "colab": {
          "base_uri": "https://localhost:8080/"
        }
      },
      "execution_count": 24,
      "outputs": [
        {
          "output_type": "execute_result",
          "data": {
            "text/plain": [
              "torch.Size([80])"
            ]
          },
          "metadata": {},
          "execution_count": 24
        }
      ]
    },
    {
      "cell_type": "code",
      "source": [
        "prob_of_correct_char.shape"
      ],
      "metadata": {
        "id": "OAEd4WRnFiIV",
        "outputId": "e71bd75e-7840-4fd2-d42d-5f0b6fee976d",
        "colab": {
          "base_uri": "https://localhost:8080/"
        }
      },
      "execution_count": 23,
      "outputs": [
        {
          "output_type": "execute_result",
          "data": {
            "text/plain": [
              "torch.Size([80])"
            ]
          },
          "metadata": {},
          "execution_count": 23
        }
      ]
    },
    {
      "cell_type": "code",
      "source": [
        "new_prob = []\n",
        "\n",
        "for i in range (len(y)):\n",
        "  if y[i] == 0:\n",
        "    continue\n",
        "  else:\n",
        "    new_prob.append(prob_of_correct_char[i])\n",
        "\n",
        "new_prob = torch.stack(new_prob)\n",
        "new_prob"
      ],
      "metadata": {
        "id": "yk7YmA8bF-W2",
        "outputId": "32577c52-3f28-4050-b40c-52f7218f274d",
        "colab": {
          "base_uri": "https://localhost:8080/"
        }
      },
      "execution_count": 28,
      "outputs": [
        {
          "output_type": "execute_result",
          "data": {
            "text/plain": [
              "tensor([0.1050, 0.1095, 0.0901, 0.0826, 0.0929, 0.1132, 0.0908, 0.1000, 0.1039,\n",
              "        0.0951, 0.1024, 0.1144, 0.0928, 0.1057, 0.0908, 0.1062, 0.1058, 0.0902,\n",
              "        0.1156, 0.1085, 0.1048, 0.1007, 0.0971, 0.1133, 0.1001, 0.1042, 0.1065,\n",
              "        0.1080, 0.0997, 0.1090, 0.0893, 0.0960, 0.0890, 0.1178, 0.0959, 0.1262,\n",
              "        0.0764, 0.1124, 0.0846, 0.0898, 0.1059, 0.0921, 0.0981, 0.1015, 0.1032,\n",
              "        0.0937, 0.1014, 0.1132, 0.1033, 0.1180, 0.0926, 0.0990, 0.1004, 0.0953,\n",
              "        0.0921, 0.1148, 0.1011, 0.0916, 0.1100, 0.1038, 0.1048, 0.0898],\n",
              "       grad_fn=<StackBackward0>)"
            ]
          },
          "metadata": {},
          "execution_count": 28
        }
      ]
    },
    {
      "cell_type": "code",
      "source": [
        "y != 0\n",
        "prob_of_correct_char[y != 0]"
      ],
      "metadata": {
        "id": "d1mrDLVAHGBw",
        "outputId": "308fd13b-06f5-4cf8-8e30-8a992e3718b9",
        "colab": {
          "base_uri": "https://localhost:8080/"
        }
      },
      "execution_count": 30,
      "outputs": [
        {
          "output_type": "execute_result",
          "data": {
            "text/plain": [
              "tensor([0.1050, 0.1095, 0.0901, 0.0826, 0.0929, 0.1132, 0.0908, 0.1000, 0.1039,\n",
              "        0.0951, 0.1024, 0.1144, 0.0928, 0.1057, 0.0908, 0.1062, 0.1058, 0.0902,\n",
              "        0.1156, 0.1085, 0.1048, 0.1007, 0.0971, 0.1133, 0.1001, 0.1042, 0.1065,\n",
              "        0.1080, 0.0997, 0.1090, 0.0893, 0.0960, 0.0890, 0.1178, 0.0959, 0.1262,\n",
              "        0.0764, 0.1124, 0.0846, 0.0898, 0.1059, 0.0921, 0.0981, 0.1015, 0.1032,\n",
              "        0.0937, 0.1014, 0.1132, 0.1033, 0.1180, 0.0926, 0.0990, 0.1004, 0.0953,\n",
              "        0.0921, 0.1148, 0.1011, 0.0916, 0.1100, 0.1038, 0.1048, 0.0898],\n",
              "       grad_fn=<IndexBackward0>)"
            ]
          },
          "metadata": {},
          "execution_count": 30
        }
      ]
    },
    {
      "cell_type": "code",
      "source": [
        "prediction = model(x)\n",
        "batch_size, seq_length, vocab_size = prediction.shape # batch_size, seq_length, vocab_size\n",
        "prediction = prediction.reshape(batch_size * seq_length, vocab_size)\n",
        "y = y.reshape(-1)\n",
        "print(prediction.shape, y.shape)\n",
        "prob_of_correct_char = prediction[torch.arange(len(y)), y]"
      ],
      "metadata": {
        "id": "P3qIPMUpHixg"
      },
      "execution_count": null,
      "outputs": []
    },
    {
      "cell_type": "markdown",
      "metadata": {
        "id": "Mq5SklLf9KTR"
      },
      "source": [
        "## Define the Inference\n",
        "- Unlike the training, we don't have the target output in the inference\n",
        "- We need to feed the model with the previous character and get the next character as the output\n",
        "  - We have to \"sample\" the next character from the model.\n",
        "    - For this, we can use the ```torch.multinomial``` function\n",
        "    - ```torch.multinomial(logits, num_samples=1)```\n",
        "    - This function will sample the next character from the logits\n",
        "    - We can use this function to sample the next character in the inference loop\n"
      ]
    },
    {
      "cell_type": "markdown",
      "metadata": {
        "id": "KvDnSV5o9KTR"
      },
      "source": []
    }
  ],
  "metadata": {
    "accelerator": "GPU",
    "colab": {
      "provenance": [],
      "include_colab_link": true
    },
    "gpuClass": "standard",
    "kernelspec": {
      "display_name": "Python 3",
      "language": "python",
      "name": "python3"
    },
    "language_info": {
      "codemirror_mode": {
        "name": "ipython",
        "version": 3
      },
      "file_extension": ".py",
      "mimetype": "text/x-python",
      "name": "python",
      "nbconvert_exporter": "python",
      "pygments_lexer": "ipython3",
      "version": "3.10.12"
    },
    "orig_nbformat": 4
  },
  "nbformat": 4,
  "nbformat_minor": 0
}